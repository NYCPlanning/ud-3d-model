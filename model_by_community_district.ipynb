{
 "cells": [
  {
   "cell_type": "code",
   "execution_count": 20,
   "metadata": {},
   "outputs": [],
   "source": [
    "import geopandas as gpd\n",
    "import fiona\n",
    "from rhino3dm import *"
   ]
  },
  {
   "cell_type": "code",
   "execution_count": 21,
   "metadata": {},
   "outputs": [],
   "source": [
    "planimetric_gdb_path = '/Users/carstenrodin/local-git/ud-3d-model/in/NYC_DoITT_Planimetric_OpenData.gdb'"
   ]
  },
  {
   "cell_type": "code",
   "execution_count": 22,
   "metadata": {},
   "outputs": [],
   "source": [
    "# list layer sources on disk\n",
    "planimetric_layers = fiona.listlayers(planimetric_gdb_path)"
   ]
  },
  {
   "cell_type": "code",
   "execution_count": 23,
   "metadata": {},
   "outputs": [
    {
     "name": "stdout",
     "output_type": "stream",
     "text": [
      "['PAVEMENT_EDGE', 'HYDRO_STRUCTURE', 'RETAININGWALL', 'HYDROGRAPHY', 'SIDEWALK', 'PARK', 'MEDIAN', 'SWIMMING_POOL', 'OPEN_SPACE_NO_PARK', 'PARKING_LOT', 'SHORELINE', 'BOARDWALK', 'RAILROAD', 'TRANSPORT_STRUCTURE', 'ELEVATION', 'MISC_STRUCTURE_POLY', 'CURB', 'ROADBED', 'PLAZA', 'SIDEWALK_LINE', 'RAILROAD_STRUCTURE']\n"
     ]
    }
   ],
   "source": [
    "print(planimetric_layers)"
   ]
  },
  {
   "cell_type": "code",
   "execution_count": 14,
   "metadata": {},
   "outputs": [
    {
     "data": {
      "text/plain": [
       "True"
      ]
     },
     "execution_count": 14,
     "metadata": {},
     "output_type": "execute_result"
    }
   ],
   "source": [
    "# create model file object\n",
    "model = File3dm()"
   ]
  },
  {
   "cell_type": "code",
   "execution_count": 24,
   "metadata": {},
   "outputs": [],
   "source": [
    "# import each layer as geodataframe\n",
    "park_data = gpd.read_file(planimetric_gdb_path, driver='FileGDB', layer=planimetric_layers.index('PARK'))"
   ]
  },
  {
   "cell_type": "code",
   "execution_count": 25,
   "metadata": {},
   "outputs": [
    {
     "data": {
      "text/html": [
       "<div>\n",
       "<style scoped>\n",
       "    .dataframe tbody tr th:only-of-type {\n",
       "        vertical-align: middle;\n",
       "    }\n",
       "\n",
       "    .dataframe tbody tr th {\n",
       "        vertical-align: top;\n",
       "    }\n",
       "\n",
       "    .dataframe thead th {\n",
       "        text-align: right;\n",
       "    }\n",
       "</style>\n",
       "<table border=\"1\" class=\"dataframe\">\n",
       "  <thead>\n",
       "    <tr style=\"text-align: right;\">\n",
       "      <th></th>\n",
       "      <th>PARK_NAME</th>\n",
       "      <th>SOURCE_ID</th>\n",
       "      <th>FEATURE_CODE</th>\n",
       "      <th>SUB_FEATURE_CODE</th>\n",
       "      <th>LANDUSE</th>\n",
       "      <th>PARKNUM</th>\n",
       "      <th>STATUS</th>\n",
       "      <th>SYSTEM</th>\n",
       "      <th>SHAPE_Length</th>\n",
       "      <th>SHAPE_Area</th>\n",
       "      <th>geometry</th>\n",
       "    </tr>\n",
       "  </thead>\n",
       "  <tbody>\n",
       "    <tr>\n",
       "      <th>0</th>\n",
       "      <td>Commodore Barry Park</td>\n",
       "      <td>2.149100e+10</td>\n",
       "      <td>4910</td>\n",
       "      <td>491050</td>\n",
       "      <td>Community Park</td>\n",
       "      <td>B021</td>\n",
       "      <td>Updated</td>\n",
       "      <td></td>\n",
       "      <td>829.420107</td>\n",
       "      <td>4.153980e+04</td>\n",
       "      <td>MULTIPOLYGON (((990011.028 193576.923, 990003....</td>\n",
       "    </tr>\n",
       "    <tr>\n",
       "      <th>1</th>\n",
       "      <td>Pierrepont Playground</td>\n",
       "      <td>2.149800e+10</td>\n",
       "      <td>4980</td>\n",
       "      <td>498000</td>\n",
       "      <td>Neighborhood Park</td>\n",
       "      <td>B222</td>\n",
       "      <td>Unchanged</td>\n",
       "      <td></td>\n",
       "      <td>607.555193</td>\n",
       "      <td>2.196049e+04</td>\n",
       "      <td>MULTIPOLYGON (((984993.079 192850.815, 984992....</td>\n",
       "    </tr>\n",
       "    <tr>\n",
       "      <th>2</th>\n",
       "      <td>Cobble Hill Park</td>\n",
       "      <td>2.149800e+10</td>\n",
       "      <td>4980</td>\n",
       "      <td>498000</td>\n",
       "      <td>Neighborhood Park</td>\n",
       "      <td>B326</td>\n",
       "      <td>Unchanged</td>\n",
       "      <td></td>\n",
       "      <td>784.421990</td>\n",
       "      <td>2.807908e+04</td>\n",
       "      <td>MULTIPOLYGON (((985477.412 189907.616, 985477....</td>\n",
       "    </tr>\n",
       "    <tr>\n",
       "      <th>3</th>\n",
       "      <td>Commodore Barry Park</td>\n",
       "      <td>2.149800e+10</td>\n",
       "      <td>4980</td>\n",
       "      <td>498000</td>\n",
       "      <td>Community Park</td>\n",
       "      <td>B021</td>\n",
       "      <td>Unchanged</td>\n",
       "      <td></td>\n",
       "      <td>2672.710150</td>\n",
       "      <td>4.384161e+05</td>\n",
       "      <td>MULTIPOLYGON (((990498.402 193034.421, 990499....</td>\n",
       "    </tr>\n",
       "    <tr>\n",
       "      <th>4</th>\n",
       "      <td>Brooklyn Heights Promenade</td>\n",
       "      <td>2.149800e+10</td>\n",
       "      <td>4980</td>\n",
       "      <td>498000</td>\n",
       "      <td>Triangle/Plaza</td>\n",
       "      <td>B223DG</td>\n",
       "      <td>Unchanged</td>\n",
       "      <td></td>\n",
       "      <td>1376.106398</td>\n",
       "      <td>1.446570e+04</td>\n",
       "      <td>MULTIPOLYGON (((984952.331 193184.601, 984898....</td>\n",
       "    </tr>\n",
       "    <tr>\n",
       "      <th>...</th>\n",
       "      <td>...</td>\n",
       "      <td>...</td>\n",
       "      <td>...</td>\n",
       "      <td>...</td>\n",
       "      <td>...</td>\n",
       "      <td>...</td>\n",
       "      <td>...</td>\n",
       "      <td>...</td>\n",
       "      <td>...</td>\n",
       "      <td>...</td>\n",
       "      <td>...</td>\n",
       "    </tr>\n",
       "    <tr>\n",
       "      <th>12486</th>\n",
       "      <td>Tiger Playground</td>\n",
       "      <td>2.049600e+10</td>\n",
       "      <td>4960</td>\n",
       "      <td>496000</td>\n",
       "      <td></td>\n",
       "      <td>B307</td>\n",
       "      <td>Unchanged</td>\n",
       "      <td>B307-TRACK-6</td>\n",
       "      <td>920.850427</td>\n",
       "      <td>5.515608e+03</td>\n",
       "      <td>MULTIPOLYGON (((1009033.364 190094.028, 100903...</td>\n",
       "    </tr>\n",
       "    <tr>\n",
       "      <th>12487</th>\n",
       "      <td>Idlewild Park</td>\n",
       "      <td>3.498000e+09</td>\n",
       "      <td>4980</td>\n",
       "      <td>498000</td>\n",
       "      <td>Nature Area</td>\n",
       "      <td>Q392</td>\n",
       "      <td>Updated</td>\n",
       "      <td></td>\n",
       "      <td>64075.505440</td>\n",
       "      <td>8.858390e+06</td>\n",
       "      <td>MULTIPOLYGON (((1050681.104 178132.544, 105067...</td>\n",
       "    </tr>\n",
       "    <tr>\n",
       "      <th>12488</th>\n",
       "      <td>Jamaica Playground</td>\n",
       "      <td>6.498017e+09</td>\n",
       "      <td>4980</td>\n",
       "      <td>498000</td>\n",
       "      <td>None</td>\n",
       "      <td>Q301</td>\n",
       "      <td>Updated</td>\n",
       "      <td>None</td>\n",
       "      <td>1822.705434</td>\n",
       "      <td>1.232633e+05</td>\n",
       "      <td>MULTIPOLYGON (((1042109.256 192217.366, 104217...</td>\n",
       "    </tr>\n",
       "    <tr>\n",
       "      <th>12489</th>\n",
       "      <td>P.S. 22</td>\n",
       "      <td>1.649600e+10</td>\n",
       "      <td>4960</td>\n",
       "      <td>496000</td>\n",
       "      <td></td>\n",
       "      <td>RS03</td>\n",
       "      <td>New</td>\n",
       "      <td></td>\n",
       "      <td>495.429067</td>\n",
       "      <td>1.475964e+03</td>\n",
       "      <td>MULTIPOLYGON (((942396.890 166940.751, 942438....</td>\n",
       "    </tr>\n",
       "    <tr>\n",
       "      <th>12490</th>\n",
       "      <td>Marine Park</td>\n",
       "      <td>2.498000e+09</td>\n",
       "      <td>4980</td>\n",
       "      <td>498000</td>\n",
       "      <td>Community Park</td>\n",
       "      <td>B057</td>\n",
       "      <td>Unchanged</td>\n",
       "      <td></td>\n",
       "      <td>277.005062</td>\n",
       "      <td>1.316128e+03</td>\n",
       "      <td>MULTIPOLYGON (((1006546.660 154769.820, 100656...</td>\n",
       "    </tr>\n",
       "  </tbody>\n",
       "</table>\n",
       "<p>12491 rows × 11 columns</p>\n",
       "</div>"
      ],
      "text/plain": [
       "                        PARK_NAME     SOURCE_ID  FEATURE_CODE  \\\n",
       "0            Commodore Barry Park  2.149100e+10          4910   \n",
       "1           Pierrepont Playground  2.149800e+10          4980   \n",
       "2                Cobble Hill Park  2.149800e+10          4980   \n",
       "3            Commodore Barry Park  2.149800e+10          4980   \n",
       "4      Brooklyn Heights Promenade  2.149800e+10          4980   \n",
       "...                           ...           ...           ...   \n",
       "12486            Tiger Playground  2.049600e+10          4960   \n",
       "12487               Idlewild Park  3.498000e+09          4980   \n",
       "12488          Jamaica Playground  6.498017e+09          4980   \n",
       "12489                     P.S. 22  1.649600e+10          4960   \n",
       "12490                 Marine Park  2.498000e+09          4980   \n",
       "\n",
       "       SUB_FEATURE_CODE            LANDUSE PARKNUM     STATUS        SYSTEM  \\\n",
       "0                491050     Community Park    B021    Updated                 \n",
       "1                498000  Neighborhood Park    B222  Unchanged                 \n",
       "2                498000  Neighborhood Park    B326  Unchanged                 \n",
       "3                498000     Community Park    B021  Unchanged                 \n",
       "4                498000     Triangle/Plaza  B223DG  Unchanged                 \n",
       "...                 ...                ...     ...        ...           ...   \n",
       "12486            496000                       B307  Unchanged  B307-TRACK-6   \n",
       "12487            498000        Nature Area    Q392    Updated                 \n",
       "12488            498000               None    Q301    Updated          None   \n",
       "12489            496000                       RS03        New                 \n",
       "12490            498000     Community Park    B057  Unchanged                 \n",
       "\n",
       "       SHAPE_Length    SHAPE_Area  \\\n",
       "0        829.420107  4.153980e+04   \n",
       "1        607.555193  2.196049e+04   \n",
       "2        784.421990  2.807908e+04   \n",
       "3       2672.710150  4.384161e+05   \n",
       "4       1376.106398  1.446570e+04   \n",
       "...             ...           ...   \n",
       "12486    920.850427  5.515608e+03   \n",
       "12487  64075.505440  8.858390e+06   \n",
       "12488   1822.705434  1.232633e+05   \n",
       "12489    495.429067  1.475964e+03   \n",
       "12490    277.005062  1.316128e+03   \n",
       "\n",
       "                                                geometry  \n",
       "0      MULTIPOLYGON (((990011.028 193576.923, 990003....  \n",
       "1      MULTIPOLYGON (((984993.079 192850.815, 984992....  \n",
       "2      MULTIPOLYGON (((985477.412 189907.616, 985477....  \n",
       "3      MULTIPOLYGON (((990498.402 193034.421, 990499....  \n",
       "4      MULTIPOLYGON (((984952.331 193184.601, 984898....  \n",
       "...                                                  ...  \n",
       "12486  MULTIPOLYGON (((1009033.364 190094.028, 100903...  \n",
       "12487  MULTIPOLYGON (((1050681.104 178132.544, 105067...  \n",
       "12488  MULTIPOLYGON (((1042109.256 192217.366, 104217...  \n",
       "12489  MULTIPOLYGON (((942396.890 166940.751, 942438....  \n",
       "12490  MULTIPOLYGON (((1006546.660 154769.820, 100656...  \n",
       "\n",
       "[12491 rows x 11 columns]"
      ]
     },
     "execution_count": 25,
     "metadata": {},
     "output_type": "execute_result"
    }
   ],
   "source": [
    "park_data"
   ]
  },
  {
   "cell_type": "code",
   "execution_count": 26,
   "metadata": {},
   "outputs": [
    {
     "data": {
      "text/plain": [
       "geopandas.geodataframe.GeoDataFrame"
      ]
     },
     "execution_count": 26,
     "metadata": {},
     "output_type": "execute_result"
    }
   ],
   "source": [
    "# iterate over geodataframe, add geometry to the model each time\n",
    "type(park_data)"
   ]
  },
  {
   "cell_type": "code",
   "execution_count": 39,
   "metadata": {},
   "outputs": [
    {
     "name": "stdout",
     "output_type": "stream",
     "text": [
      "0.0,1.0,0.0\n",
      "0.0,0.0,3.0\n"
     ]
    }
   ],
   "source": [
    "#Point3dList([0,0,0]ult)\n",
    "points_list = [{'x': 0, 'y': 1, 'z': 0}, {'x': 0, 'y': 0, 'z':3}]\n",
    "for point in points_list:\n",
    "    \n",
    "    print(Point3d(**point))\n",
    "\n",
    "# Polyline()"
   ]
  },
  {
   "cell_type": "code",
   "execution_count": null,
   "metadata": {},
   "outputs": [],
   "source": [
    "# write model to file\n",
    "model.Write('/Users/carstenrodin/local-git/ud-3d-model/out/test.3dm', 6)"
   ]
  }
 ],
 "metadata": {
  "kernelspec": {
   "display_name": "Python 3",
   "language": "python",
   "name": "python3"
  },
  "language_info": {
   "codemirror_mode": {
    "name": "ipython",
    "version": 3
   },
   "file_extension": ".py",
   "mimetype": "text/x-python",
   "name": "python",
   "nbconvert_exporter": "python",
   "pygments_lexer": "ipython3",
   "version": "3.7.6"
  }
 },
 "nbformat": 4,
 "nbformat_minor": 4
}
