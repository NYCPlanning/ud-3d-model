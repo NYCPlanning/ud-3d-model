{
 "cells": [
  {
   "cell_type": "code",
   "execution_count": 1,
   "metadata": {},
   "outputs": [
    {
     "name": "stdout",
     "output_type": "stream",
     "text": [
      "failed to import boto3, continuing.\n"
     ]
    },
    {
     "name": "stderr",
     "output_type": "stream",
     "text": [
      "/Users/carstenrodin/anaconda3/envs/gis/lib/python3.7/site-packages/pysal/explore/segregation/network/network.py:16: UserWarning: You need pandana and urbanaccess to work with segregation's network module\n",
      "You can install them with  `pip install urbanaccess pandana` or `conda install -c udst pandana urbanaccess`\n",
      "  \"You need pandana and urbanaccess to work with segregation's network module\\n\"\n",
      "/Users/carstenrodin/anaconda3/envs/gis/lib/python3.7/site-packages/pysal/model/spvcm/abstracts.py:10: UserWarning: The `dill` module is required to use the sqlite backend fully.\n",
      "  from .sqlite import head_to_sql, start_sql\n"
     ]
    }
   ],
   "source": [
    "from glob import glob\n",
    "import fiona\n",
    "import geopandas as gpd\n",
    "import pandas as pd\n",
    "from cartoframes.auth import set_default_credentials\n",
    "from cartoframes import to_carto, has_table, delete_table\n",
    "import georasters as gr\n",
    "import numpy as np\n",
    "from shapely.geometry import MultiPolygon\n",
    "from shapely import wkt, wkb\n",
    "import shapely.ops"
   ]
  },
  {
   "cell_type": "code",
   "execution_count": 2,
   "metadata": {},
   "outputs": [],
   "source": [
    "# set authentication from local file for cartoframes\n",
    "set_default_credentials(\"/Users/carstenrodin/keys/2020-02-05_dcp-carto-upload.json\")"
   ]
  },
  {
   "cell_type": "code",
   "execution_count": 6,
   "metadata": {},
   "outputs": [
    {
     "data": {
      "text/plain": [
       "False"
      ]
     },
     "execution_count": 6,
     "metadata": {},
     "output_type": "execute_result"
    }
   ],
   "source": [
    "# can change the table here to test connection\n",
    "# has_table('doitt_bldgs_test')"
   ]
  },
  {
   "cell_type": "markdown",
   "metadata": {},
   "source": [
    "## Import Buildings\n",
    "from https://github.com/CityOfNewYork/nyc-geo-metadata/blob/master/Metadata/Metadata_3DBuildingModel.md"
   ]
  },
  {
   "cell_type": "code",
   "execution_count": 4,
   "metadata": {
    "collapsed": true,
    "jupyter": {
     "outputs_hidden": true
    }
   },
   "outputs": [
    {
     "name": "stdout",
     "output_type": "stream",
     "text": [
      "./in/DA_WISE_Multipatch/DA_WISE_Multipatch/DA14_3D_Buildings_Multipatch.gdb/\n",
      "./in/DA_WISE_Multipatch/DA_WISE_Multipatch/DA11_3D_Buildings_Multipatch.gdb/\n",
      "./in/DA_WISE_Multipatch/DA_WISE_Multipatch/DA1_3D_Buildings_Multipatch.gdb/\n",
      "./in/DA_WISE_Multipatch/DA_WISE_Multipatch/DA4_3D_Buildings_Multipatch.gdb/\n",
      "./in/DA_WISE_Multipatch/DA_WISE_Multipatch/DA10_3D_Buildings_Multipatch.gdb/\n",
      "./in/DA_WISE_Multipatch/DA_WISE_Multipatch/DA15_3D_Buildings_Multipatch.gdb/\n",
      "./in/DA_WISE_Multipatch/DA_WISE_Multipatch/DA5_3D_Buildings_Multipatch.gdb/\n",
      "./in/DA_WISE_Multipatch/DA_WISE_Multipatch/DA20_3D_Buildings_Multipatch.gdb/\n",
      "./in/DA_WISE_Multipatch/DA_WISE_Multipatch/DA3_3D_Buildings_Multipatch.gdb/\n",
      "./in/DA_WISE_Multipatch/DA_WISE_Multipatch/DA6_3D_Buildings_Multipatch.gdb/\n",
      "./in/DA_WISE_Multipatch/DA_WISE_Multipatch/DA19_3D_Buildings_Multipatch.gdb/\n",
      "./in/DA_WISE_Multipatch/DA_WISE_Multipatch/DA16_3D_Buildings_Multipatch.gdb/\n",
      "./in/DA_WISE_Multipatch/DA_WISE_Multipatch/DA9_3D_Buildings_Multipatch.gdb/\n",
      "./in/DA_WISE_Multipatch/DA_WISE_Multipatch/DA13_3D_Buildings_Multipatch.gdb/\n",
      "./in/DA_WISE_Multipatch/DA_WISE_Multipatch/DA7_3D_Buildings_Multipatch.gdb/\n",
      "./in/DA_WISE_Multipatch/DA_WISE_Multipatch/DA18_3D_Buildings_Multipatch.gdb/\n",
      "./in/DA_WISE_Multipatch/DA_WISE_Multipatch/DA2_3D_Buildings_Multipatch.gdb/\n",
      "./in/DA_WISE_Multipatch/DA_WISE_Multipatch/DA12_3D_Buildings_Multipatch.gdb/\n",
      "./in/DA_WISE_Multipatch/DA_WISE_Multipatch/DA17_3D_Buildings_Multipatch.gdb/\n",
      "./in/DA_WISE_Multipatch/DA_WISE_Multipatch/DA8_3D_Buildings_Multipatch.gdb/\n"
     ]
    }
   ],
   "source": [
    "# load buildings from each separate file-geodatabase in the search path into a list\n",
    "bldg_gdf_list = []\n",
    "bldg_gdb_paths = glob(\"./in/DA_WISE_Multipatch/DA_WISE_Multipatch/*/\")\n",
    "for i in bldg_gdb_paths:\n",
    "    print(i)\n",
    "    i_gdf = gpd.read_file(i, driver='FileGDB', layer='Buildings_3D_Multipatch')\n",
    "    bldg_gdf_list.append(i_gdf.to_crs(epsg=4326)) # set crs as EPSG:4326"
   ]
  },
  {
   "cell_type": "code",
   "execution_count": 5,
   "metadata": {},
   "outputs": [
    {
     "data": {
      "text/plain": [
       "1083529"
      ]
     },
     "execution_count": 5,
     "metadata": {},
     "output_type": "execute_result"
    }
   ],
   "source": [
    "bldgs_gdf = pd.concat(bldg_gdf_list) \n",
    "bldgs_gdf['BIN'].size # check size"
   ]
  },
  {
   "cell_type": "code",
   "execution_count": 6,
   "metadata": {},
   "outputs": [],
   "source": [
    "# make 2d convex hulls of each geometry to use as the primary the_geom field in Carto\n",
    "# this will be used for spatial queries\n",
    "bldgs_gdf['the_geom'] = bldgs_gdf['geometry'].convex_hull.apply(lambda g: shapely.ops.transform(lambda x, y, z=None: (x, y), g ) )"
   ]
  },
  {
   "cell_type": "code",
   "execution_count": 7,
   "metadata": {},
   "outputs": [],
   "source": [
    "# then make a separate field with the 3d geometry as well-known text \n",
    "# these will be of multipolygon Z type in EPSG:2263 crs\n",
    "bldgs_gdf['g3d'] = bldgs_gdf['geometry'].to_crs(epsg=2263).apply(lambda g: str(g.wkt) )"
   ]
  },
  {
   "cell_type": "code",
   "execution_count": 9,
   "metadata": {},
   "outputs": [],
   "source": [
    "# split into chunked list\n",
    "size = 10000\n",
    "upload_list = [bldgs_gdf.iloc[i:i+size-1,:] for i in range(0, len(bldgs_gdf),size)]"
   ]
  },
  {
   "cell_type": "code",
   "execution_count": 18,
   "metadata": {
    "collapsed": true,
    "jupyter": {
     "outputs_hidden": true
    }
   },
   "outputs": [
    {
     "name": "stdout",
     "output_type": "stream",
     "text": [
      "Success! Data uploaded to table \"doitt_3dbldgs_v2016\" correctly\n",
      "Success! Data uploaded to table \"doitt_3dbldgs_v2016\" correctly\n",
      "Success! Data uploaded to table \"doitt_3dbldgs_v2016\" correctly\n",
      "Success! Data uploaded to table \"doitt_3dbldgs_v2016\" correctly\n",
      "Success! Data uploaded to table \"doitt_3dbldgs_v2016\" correctly\n",
      "Success! Data uploaded to table \"doitt_3dbldgs_v2016\" correctly\n",
      "Success! Data uploaded to table \"doitt_3dbldgs_v2016\" correctly\n",
      "Success! Data uploaded to table \"doitt_3dbldgs_v2016\" correctly\n",
      "Success! Data uploaded to table \"doitt_3dbldgs_v2016\" correctly\n",
      "Success! Data uploaded to table \"doitt_3dbldgs_v2016\" correctly\n",
      "Success! Data uploaded to table \"doitt_3dbldgs_v2016\" correctly\n",
      "Success! Data uploaded to table \"doitt_3dbldgs_v2016\" correctly\n",
      "Success! Data uploaded to table \"doitt_3dbldgs_v2016\" correctly\n",
      "Success! Data uploaded to table \"doitt_3dbldgs_v2016\" correctly\n",
      "Success! Data uploaded to table \"doitt_3dbldgs_v2016\" correctly\n",
      "Success! Data uploaded to table \"doitt_3dbldgs_v2016\" correctly\n",
      "Success! Data uploaded to table \"doitt_3dbldgs_v2016\" correctly\n",
      "Success! Data uploaded to table \"doitt_3dbldgs_v2016\" correctly\n",
      "Success! Data uploaded to table \"doitt_3dbldgs_v2016\" correctly\n",
      "Success! Data uploaded to table \"doitt_3dbldgs_v2016\" correctly\n",
      "Success! Data uploaded to table \"doitt_3dbldgs_v2016\" correctly\n",
      "Success! Data uploaded to table \"doitt_3dbldgs_v2016\" correctly\n",
      "Success! Data uploaded to table \"doitt_3dbldgs_v2016\" correctly\n",
      "Success! Data uploaded to table \"doitt_3dbldgs_v2016\" correctly\n",
      "Success! Data uploaded to table \"doitt_3dbldgs_v2016\" correctly\n",
      "Success! Data uploaded to table \"doitt_3dbldgs_v2016\" correctly\n",
      "Success! Data uploaded to table \"doitt_3dbldgs_v2016\" correctly\n",
      "Success! Data uploaded to table \"doitt_3dbldgs_v2016\" correctly\n",
      "Success! Data uploaded to table \"doitt_3dbldgs_v2016\" correctly\n",
      "Success! Data uploaded to table \"doitt_3dbldgs_v2016\" correctly\n",
      "Success! Data uploaded to table \"doitt_3dbldgs_v2016\" correctly\n",
      "Success! Data uploaded to table \"doitt_3dbldgs_v2016\" correctly\n",
      "Success! Data uploaded to table \"doitt_3dbldgs_v2016\" correctly\n",
      "Success! Data uploaded to table \"doitt_3dbldgs_v2016\" correctly\n",
      "Success! Data uploaded to table \"doitt_3dbldgs_v2016\" correctly\n",
      "Success! Data uploaded to table \"doitt_3dbldgs_v2016\" correctly\n",
      "Success! Data uploaded to table \"doitt_3dbldgs_v2016\" correctly\n",
      "Success! Data uploaded to table \"doitt_3dbldgs_v2016\" correctly\n",
      "Success! Data uploaded to table \"doitt_3dbldgs_v2016\" correctly\n",
      "Success! Data uploaded to table \"doitt_3dbldgs_v2016\" correctly\n",
      "Success! Data uploaded to table \"doitt_3dbldgs_v2016\" correctly\n",
      "Success! Data uploaded to table \"doitt_3dbldgs_v2016\" correctly\n",
      "Success! Data uploaded to table \"doitt_3dbldgs_v2016\" correctly\n",
      "Success! Data uploaded to table \"doitt_3dbldgs_v2016\" correctly\n",
      "Success! Data uploaded to table \"doitt_3dbldgs_v2016\" correctly\n",
      "Success! Data uploaded to table \"doitt_3dbldgs_v2016\" correctly\n",
      "Success! Data uploaded to table \"doitt_3dbldgs_v2016\" correctly\n",
      "Success! Data uploaded to table \"doitt_3dbldgs_v2016\" correctly\n",
      "Success! Data uploaded to table \"doitt_3dbldgs_v2016\" correctly\n",
      "Success! Data uploaded to table \"doitt_3dbldgs_v2016\" correctly\n",
      "Success! Data uploaded to table \"doitt_3dbldgs_v2016\" correctly\n",
      "Success! Data uploaded to table \"doitt_3dbldgs_v2016\" correctly\n",
      "Success! Data uploaded to table \"doitt_3dbldgs_v2016\" correctly\n",
      "Success! Data uploaded to table \"doitt_3dbldgs_v2016\" correctly\n",
      "Success! Data uploaded to table \"doitt_3dbldgs_v2016\" correctly\n",
      "Success! Data uploaded to table \"doitt_3dbldgs_v2016\" correctly\n",
      "Success! Data uploaded to table \"doitt_3dbldgs_v2016\" correctly\n",
      "Success! Data uploaded to table \"doitt_3dbldgs_v2016\" correctly\n",
      "Success! Data uploaded to table \"doitt_3dbldgs_v2016\" correctly\n",
      "Success! Data uploaded to table \"doitt_3dbldgs_v2016\" correctly\n",
      "Success! Data uploaded to table \"doitt_3dbldgs_v2016\" correctly\n",
      "Success! Data uploaded to table \"doitt_3dbldgs_v2016\" correctly\n",
      "Success! Data uploaded to table \"doitt_3dbldgs_v2016\" correctly\n",
      "Success! Data uploaded to table \"doitt_3dbldgs_v2016\" correctly\n",
      "Success! Data uploaded to table \"doitt_3dbldgs_v2016\" correctly\n",
      "Success! Data uploaded to table \"doitt_3dbldgs_v2016\" correctly\n",
      "Success! Data uploaded to table \"doitt_3dbldgs_v2016\" correctly\n",
      "Success! Data uploaded to table \"doitt_3dbldgs_v2016\" correctly\n",
      "Success! Data uploaded to table \"doitt_3dbldgs_v2016\" correctly\n",
      "Success! Data uploaded to table \"doitt_3dbldgs_v2016\" correctly\n",
      "Success! Data uploaded to table \"doitt_3dbldgs_v2016\" correctly\n",
      "Success! Data uploaded to table \"doitt_3dbldgs_v2016\" correctly\n",
      "Success! Data uploaded to table \"doitt_3dbldgs_v2016\" correctly\n",
      "Success! Data uploaded to table \"doitt_3dbldgs_v2016\" correctly\n",
      "Success! Data uploaded to table \"doitt_3dbldgs_v2016\" correctly\n",
      "Success! Data uploaded to table \"doitt_3dbldgs_v2016\" correctly\n",
      "Success! Data uploaded to table \"doitt_3dbldgs_v2016\" correctly\n",
      "Success! Data uploaded to table \"doitt_3dbldgs_v2016\" correctly\n",
      "Success! Data uploaded to table \"doitt_3dbldgs_v2016\" correctly\n",
      "Success! Data uploaded to table \"doitt_3dbldgs_v2016\" correctly\n",
      "Success! Data uploaded to table \"doitt_3dbldgs_v2016\" correctly\n",
      "Success! Data uploaded to table \"doitt_3dbldgs_v2016\" correctly\n",
      "Success! Data uploaded to table \"doitt_3dbldgs_v2016\" correctly\n",
      "Success! Data uploaded to table \"doitt_3dbldgs_v2016\" correctly\n",
      "Success! Data uploaded to table \"doitt_3dbldgs_v2016\" correctly\n",
      "Success! Data uploaded to table \"doitt_3dbldgs_v2016\" correctly\n",
      "Success! Data uploaded to table \"doitt_3dbldgs_v2016\" correctly\n",
      "Success! Data uploaded to table \"doitt_3dbldgs_v2016\" correctly\n",
      "Success! Data uploaded to table \"doitt_3dbldgs_v2016\" correctly\n",
      "Success! Data uploaded to table \"doitt_3dbldgs_v2016\" correctly\n",
      "Success! Data uploaded to table \"doitt_3dbldgs_v2016\" correctly\n",
      "Success! Data uploaded to table \"doitt_3dbldgs_v2016\" correctly\n",
      "Success! Data uploaded to table \"doitt_3dbldgs_v2016\" correctly\n",
      "Success! Data uploaded to table \"doitt_3dbldgs_v2016\" correctly\n",
      "Success! Data uploaded to table \"doitt_3dbldgs_v2016\" correctly\n",
      "Success! Data uploaded to table \"doitt_3dbldgs_v2016\" correctly\n",
      "Success! Data uploaded to table \"doitt_3dbldgs_v2016\" correctly\n",
      "Success! Data uploaded to table \"doitt_3dbldgs_v2016\" correctly\n",
      "Success! Data uploaded to table \"doitt_3dbldgs_v2016\" correctly\n",
      "Success! Data uploaded to table \"doitt_3dbldgs_v2016\" correctly\n",
      "Success! Data uploaded to table \"doitt_3dbldgs_v2016\" correctly\n",
      "Success! Data uploaded to table \"doitt_3dbldgs_v2016\" correctly\n",
      "Success! Data uploaded to table \"doitt_3dbldgs_v2016\" correctly\n",
      "Success! Data uploaded to table \"doitt_3dbldgs_v2016\" correctly\n",
      "Success! Data uploaded to table \"doitt_3dbldgs_v2016\" correctly\n",
      "Success! Data uploaded to table \"doitt_3dbldgs_v2016\" correctly\n",
      "Success! Data uploaded to table \"doitt_3dbldgs_v2016\" correctly\n",
      "Success! Data uploaded to table \"doitt_3dbldgs_v2016\" correctly\n",
      "Success! Data uploaded to table \"doitt_3dbldgs_v2016\" correctly\n"
     ]
    }
   ],
   "source": [
    "# upload chunks with specified fields only: BIN, geometry and 3d geometry\n",
    "for uf in upload_list:\n",
    "    to_carto(uf[['the_geom', 'BIN', 'g3d']], 'doitt_3dbldgs_v2016', if_exists=\"append\")"
   ]
  },
  {
   "cell_type": "markdown",
   "metadata": {},
   "source": [
    "## Import Street Tree Points\n",
    "see: https://data.cityofnewyork.us/Environment/2015-Street-Tree-Census-Tree-Data/pi5s-9p35  \n",
    "\n",
    "with geometry, coded species and diameter"
   ]
  },
  {
   "cell_type": "code",
   "execution_count": 7,
   "metadata": {},
   "outputs": [],
   "source": [
    "street_tree_path = \"/Users/carstenrodin/local-git/ud-3d-model/in/2015 Street Tree Census - Tree Data.geojson\"\n",
    "street_tree_gdf = gpd.read_file(street_tree_path)"
   ]
  },
  {
   "cell_type": "code",
   "execution_count": 8,
   "metadata": {},
   "outputs": [],
   "source": [
    "# fill na values for species\n",
    "street_tree_gdf['spc_common'].fillna('unknown', inplace=True)"
   ]
  },
  {
   "cell_type": "code",
   "execution_count": 9,
   "metadata": {},
   "outputs": [],
   "source": [
    "# code tree species as integer\n",
    "treecode_dict = {tree: i+1 for i, tree in enumerate(sorted(list(street_tree_gdf['spc_common'].unique())))}"
   ]
  },
  {
   "cell_type": "code",
   "execution_count": 10,
   "metadata": {},
   "outputs": [],
   "source": [
    "# create coded field for species instead of string\n",
    "street_tree_gdf['spc_code'] = street_tree_gdf.apply(lambda row: treecode_dict[row['spc_common']], axis=1)"
   ]
  },
  {
   "cell_type": "code",
   "execution_count": null,
   "metadata": {},
   "outputs": [],
   "source": [
    "# show available columns\n",
    "# street_tree_gdf.columns"
   ]
  },
  {
   "cell_type": "code",
   "execution_count": null,
   "metadata": {},
   "outputs": [],
   "source": [
    "# upload to carto, select fields only\n",
    "to_carto(street_tree_gdf[['geometry', 'spc_code', 'tree_dbh']], 'dpr_streettrees_v2016', if_exists=\"replace\")"
   ]
  },
  {
   "cell_type": "markdown",
   "metadata": {},
   "source": [
    "## Import Elevation\n",
    "\n",
    "This is currently done by sampling a DEM raster from a regularly spaced grid of points in QGIS, then uploading those points"
   ]
  },
  {
   "cell_type": "code",
   "execution_count": null,
   "metadata": {},
   "outputs": [],
   "source": [
    "street_intersection_path = \"/Users/carstenrodin/local-git/ud-3d-model/in/mn_regularpts_100/mn_regularpts_100_raster.shp\"\n",
    "street_intersection_gdf = gpd.read_file(street_intersection_path).to_crs(epsg=4326)"
   ]
  },
  {
   "cell_type": "code",
   "execution_count": null,
   "metadata": {
    "jupyter": {
     "source_hidden": true
    }
   },
   "outputs": [],
   "source": [
    "street_intersection_gdf"
   ]
  },
  {
   "cell_type": "code",
   "execution_count": null,
   "metadata": {},
   "outputs": [],
   "source": [
    "to_carto(street_intersection_gdf, 'ud_elevationpts_v2020', if_exists=\"replace\")"
   ]
  },
  {
   "cell_type": "markdown",
   "metadata": {},
   "source": [
    "## Import Planimetrics\n",
    "see https://github.com/CityOfNewYork/nyc-planimetrics/blob/master/Capture_Rules.md\n",
    "\n",
    "- [x] hydrography as geom only\n",
    "- [x] roadbed as geom only\n",
    "- [x] sidewalk as geom only"
   ]
  },
  {
   "cell_type": "code",
   "execution_count": null,
   "metadata": {},
   "outputs": [],
   "source": [
    "# load planimetrics as EPSG:4326\n",
    "planimetric_gdf_list = {}\n",
    "planimetric_path = './in/NYC_DoITT_Planimetric_OpenData.gdb/'\n",
    "planimetric_layers = fiona.listlayers(planimetric_path)\n",
    "for l in planimetric_layers:\n",
    "    l_gdf = gpd.read_file(planimetric_path, driver='FileGDB', layer=l)\n",
    "    planimetric_gdf_list[l] = l_gdf.to_crs(epsg=4326)"
   ]
  },
  {
   "cell_type": "code",
   "execution_count": null,
   "metadata": {},
   "outputs": [],
   "source": [
    "# planimetric_gdf_list.keys()"
   ]
  },
  {
   "cell_type": "code",
   "execution_count": null,
   "metadata": {},
   "outputs": [],
   "source": [
    "# planimetric_gdf_list['SIDEWALK'].head()"
   ]
  },
  {
   "cell_type": "code",
   "execution_count": null,
   "metadata": {},
   "outputs": [],
   "source": [
    "# upload to carto\n",
    "to_carto(planimetric_gdf_list['SIDEWALK'][['geometry']], 'doitt_sidewalk', if_exists=\"replace\")"
   ]
  },
  {
   "cell_type": "markdown",
   "metadata": {},
   "source": [
    "## Other Export Options"
   ]
  },
  {
   "cell_type": "code",
   "execution_count": null,
   "metadata": {},
   "outputs": [],
   "source": [
    "# save to file\n",
    "# bldgs_gdf.to_file(\"/Users/carstenrodin/Desktop/bldgs.gpkg\", driver=\"GPKG\")"
   ]
  }
 ],
 "metadata": {
  "kernelspec": {
   "display_name": "Python 3",
   "language": "python",
   "name": "python3"
  },
  "language_info": {
   "codemirror_mode": {
    "name": "ipython",
    "version": 3
   },
   "file_extension": ".py",
   "mimetype": "text/x-python",
   "name": "python",
   "nbconvert_exporter": "python",
   "pygments_lexer": "ipython3",
   "version": "3.7.6"
  }
 },
 "nbformat": 4,
 "nbformat_minor": 4
}
